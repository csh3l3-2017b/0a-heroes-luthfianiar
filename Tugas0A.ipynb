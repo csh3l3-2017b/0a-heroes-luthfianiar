{
 "cells": [
  {
   "cell_type": "code",
   "execution_count": 1,
   "metadata": {
    "collapsed": true
   },
   "outputs": [],
   "source": [
    "import pandas as pd"
   ]
  },
  {
   "cell_type": "code",
   "execution_count": 31,
   "metadata": {},
   "outputs": [],
   "source": [
    "test = pd.read_csv('test.csv')"
   ]
  },
  {
   "cell_type": "markdown",
   "metadata": {},
   "source": [
    "Meload data test.csv"
   ]
  },
  {
   "cell_type": "markdown",
   "metadata": {},
   "source": [
    "Heroes yang memiliki movementSpeed >= 270, akan mendapat peran sebagai MARKSMAN (huruf kapital semua). Heroes dengan mana >= 500, akan mendapat peran sebagai MAGE (huruf kapital semua) Heroes dengan armor >= 25, akan mendapat peran sebagai TANK (huruf kapital semua). Heroes dengan physicalAttack >= 121, akan mendapat peran sebagai ASSASSIN (huruf kapital semua) Heroes dengan hp >= 2580, akan mendapat peran sebagai FIGHTER (huruf kapital semua). Heroes lainnya akan mendapat peran sebagai SUPPORT (huruf kapital semua)"
   ]
  },
  {
   "cell_type": "code",
   "execution_count": 3,
   "metadata": {
    "collapsed": true
   },
   "outputs": [],
   "source": [
    "Role = []"
   ]
  },
  {
   "cell_type": "code",
   "execution_count": 32,
   "metadata": {},
   "outputs": [],
   "source": [
    "for i in range(len(test)):\n",
    "    if test[\"movementSpeed\"][i] >= 270:\n",
    "        Role.append(\"MARKSMAN\")\n",
    "    elif test[\"mana\"][i] >= 500:\n",
    "        Role.append(\"MAGE\")\n",
    "    elif test[\"armor\"][i] >= 25:\n",
    "        Role.append(\"TANK\")\n",
    "    elif test[\"physicalAttack\"][i] >= 121:\n",
    "        Role.append(\"ASSASSIN\")\n",
    "    elif test[\"hp\"][i] >= 2580:\n",
    "        Role.append(\"FIGHTER\")\n",
    "    else:\n",
    "        Role.append(\"SUPPORT\")"
   ]
  },
  {
   "cell_type": "code",
   "execution_count": 33,
   "metadata": {},
   "outputs": [],
   "source": [
    "list = pd.DataFrame({\n",
    "    \"name\" : test[\"name\"],\n",
    "    \"role\" : Role\n",
    "})"
   ]
  },
  {
   "cell_type": "code",
   "execution_count": 35,
   "metadata": {},
   "outputs": [],
   "source": [
    "list.to_csv(\"prediction.csv\", index = False)"
   ]
  },
  {
   "cell_type": "code",
   "execution_count": null,
   "metadata": {
    "collapsed": true
   },
   "outputs": [],
   "source": []
  }
 ],
 "metadata": {
  "kernelspec": {
   "display_name": "Python 2",
   "language": "python",
   "name": "python2"
  },
  "language_info": {
   "codemirror_mode": {
    "name": "ipython",
    "version": 2
   },
   "file_extension": ".py",
   "mimetype": "text/x-python",
   "name": "python",
   "nbconvert_exporter": "python",
   "pygments_lexer": "ipython2",
   "version": "2.7.14"
  }
 },
 "nbformat": 4,
 "nbformat_minor": 2
}
